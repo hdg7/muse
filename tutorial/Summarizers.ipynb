{
 "cells": [
  {
   "metadata": {},
   "cell_type": "markdown",
   "source": [
    "# Summarizers\n",
    "\n",
    "Summarization systems can be run directly in MuSE via the `summarize` module. These do require the data to be loaded into their relevant formats (Document, MultiDocument, or Conversation *see [Datasets.ipynb](../dataset_importer/Datasets.ipynb)*) before being passed to the summarizer.\n",
    "\n",
    "Currently, MuSE supports the following summarizers:\n",
    "- Conversation\n",
    "- CrossSum\n",
    "- FalconsAI\n",
    "- MT5\n",
    "- Spacy\n",
    "- Sumy\n",
    "\n",
    "Some provide options, such as the device to run on (CPU or GPU), others may not take any.\n",
    "\n",
    "The typical way to interact with a summarizer, is to get an instance from the reolver, and then call the `summarize` method on it, passing the data to summarize in the relevant container. This will return a summary of the input data."
   ],
   "id": "7943fcf0dccc158d"
  },
  {
   "metadata": {
    "ExecuteTime": {
     "end_time": "2024-11-08T10:57:39.165798Z",
     "start_time": "2024-11-08T10:57:12.745359Z"
    }
   },
   "cell_type": "code",
   "source": [
    "from muse.summarizer import resolve_summarizer\n",
    "# Typically, you would load a document, multi-document, or conversation object here from an appropriate dataset, but for this example we will create a document object\n",
    "from muse.data_manager import Document\n",
    "\n",
    "docs = [Document(\"This is a test document. It is used to demonstrate the summarizers. it has some text, and is discussing a topic. It is a test document.\")]\n",
    "\n",
    "# Get the desired summarizer\n",
    "ConversationSummarizer = resolve_summarizer(\"Conversation\") # We are passing a document here, but of course, typical usage would be to pass a conversation object\n",
    "CrossSumSummarizer = resolve_summarizer(\"CrossSum\")\n",
    "FalconsAISummarizer = resolve_summarizer(\"FalconsAI\")\n",
    "MT5Summarizer = resolve_summarizer(\"MT5\")\n",
    "SpacySummarizer = resolve_summarizer(\"Spacy\")\n",
    "SumySummarizer = resolve_summarizer(\"Sumy\")\n",
    "\n",
    "# Summarize the document\n",
    "conversation_summary = ConversationSummarizer.summarize(docs)\n",
    "crosssum_summary = CrossSumSummarizer.summarize(docs)\n",
    "falconsai_summary = FalconsAISummarizer.summarize(docs)\n",
    "mt5_summary = MT5Summarizer.summarize(docs)\n",
    "spacy_summary = SpacySummarizer.summarize(docs)\n",
    "sumy_summary = SumySummarizer.summarize(docs)\n",
    "\n",
    "print(\"Conversation Summary:\", conversation_summary)\n",
    "print(\"CrossSum Summary:\", crosssum_summary)\n",
    "print(\"FalconsAI Summary:\", falconsai_summary)\n",
    "print(\"MT5 Summary:\", mt5_summary)\n",
    "print(\"Spacy Summary:\", spacy_summary)\n",
    "print(\"Sumy Summary:\", sumy_summary)"
   ],
   "id": "7e86591617015cec",
   "outputs": [
    {
     "name": "stderr",
     "output_type": "stream",
     "text": [
      "/home/aidan/miniconda3/envs/MuSE/lib/python3.10/site-packages/sentence_transformers/cross_encoder/CrossEncoder.py:13: TqdmExperimentalWarning: Using `tqdm.autonotebook.tqdm` in notebook mode. Use `tqdm.tqdm` instead to force console mode (e.g. in jupyter console)\n",
      "  from tqdm.autonotebook import tqdm, trange\n",
      "You are using the default legacy behaviour of the <class 'transformers.models.t5.tokenization_t5.T5Tokenizer'>. This is expected, and simply means that the `legacy` (previous) behavior will be used so nothing changes for you. If you want to use the new behaviour, set `legacy=False`. This should only be set if you understand what it means, and thoroughly read the reason why this was added as explained in https://github.com/huggingface/transformers/pull/24565\n",
      "/home/aidan/miniconda3/envs/MuSE/lib/python3.10/site-packages/transformers/convert_slow_tokenizer.py:561: UserWarning: The sentencepiece tokenizer that you are converting to a fast tokenizer uses the byte fallback option which is not implemented in the fast tokenizers. In practice this means that the fast version of the tokenizer can produce unknown tokens whereas the sentencepiece version would have converted these unknown tokens into a sequence of byte tokens matching the original piece of text.\n",
      "  warnings.warn(\n",
      "[nltk_data] Downloading package punkt_tab to /home/aidan/nltk_data...\n",
      "[nltk_data]   Package punkt_tab is already up-to-date!\n",
      "Your max_length is set to 142, but your input_length is only 34. Since this is a summarization task, where outputs shorter than the input are typically wanted, you might consider decreasing max_length manually, e.g. summarizer('...', max_length=17)\n",
      "Your max_length is set to 200, but your input_length is only 39. Since this is a summarization task, where outputs shorter than the input are typically wanted, you might consider decreasing max_length manually, e.g. summarizer('...', max_length=19)\n"
     ]
    },
    {
     "name": "stdout",
     "output_type": "stream",
     "text": [
      "Conversation Summary: [\"This is a test document is used to demonstrate the summarizers. It has some text, and is discussing a topic. It is also used to test the summarizer's ability to deal with a topic in a text-only format. It's a text document.\"]\n",
      "CrossSum Summary: ['It is a test document.']\n",
      "FalconsAI Summary: ['This is a test document. It is used to demonstrate the summarizers. It has some text, and is discussing a topic.']\n",
      "MT5 Summary: ['This is a guide to how to prepare for the coronavirus pandemic.']\n",
      "Spacy Summary: ['it has some text, and is discussing a topic. This is a test document. It is used to demonstrate the summarizers.']\n",
      "Sumy Summary: ['it has some text, and is discussing a topic.']\n"
     ]
    }
   ],
   "execution_count": 1
  },
  {
   "metadata": {},
   "cell_type": "markdown",
   "source": [
    "# Summarizers with Options\n",
    "\n",
    "Summarizer options can be checked by calling `valid_options` on the initializer.\n",
    "The following summarizers __don't__ have options:\n",
    "- Sumy\n",
    "\n",
    "The following summarizers __do__ have options:\n",
    "- Conversation\n",
    "- CrossSum\n",
    "- FalconsAI\n",
    "- MT5\n",
    "- Spacy\n",
    "\n",
    "The options can be set by passing a dictionary to the constructor of the summarizer. The keys of the dictionary should be the option names."
   ],
   "id": "f4c4ae90afdf390"
  },
  {
   "metadata": {},
   "cell_type": "code",
   "source": [
    "from muse.summarizer import Conversation, CrossSum, FalconsAI, MT5, Spacy\n",
    "\n",
    "print(\"Conversation Options:\", Conversation.valid_options())\n",
    "print(\"CrossSum Options:\", CrossSum.valid_options())\n",
    "print(\"FalconsAI Options:\", FalconsAI.valid_options())\n",
    "print(\"MT5 Options:\", MT5.valid_options())\n",
    "print(\"Spacy Options:\", Spacy.valid_options())"
   ],
   "id": "374ac14c1dca74cb",
   "outputs": [],
   "execution_count": null
  },
  {
   "metadata": {},
   "cell_type": "markdown",
   "source": [
    "## Conversation Options\n",
    "\n",
    "Many of the options available to summarizers are related to the device on which they run. The `device` option can be set to either `cpu` or `cuda` (for GPU). "
   ],
   "id": "e3e461a8b97a74a3"
  },
  {
   "metadata": {},
   "cell_type": "code",
   "outputs": [],
   "execution_count": null,
   "source": [
    "from muse.summarizer import resolve_summarizer\n",
    "from muse.data_manager import Document\n",
    "\n",
    "docs = [Document(\"This is a test document. It is used to demonstrate the summarizers. it has some text, and is discussing a topic. It is a test document.\")]\n",
    "\n",
    "\n",
    "# Set the options for the conversation summarizer\n",
    "conversation_options = {\"device\": \"cpu\"}\n",
    "\n",
    "# Get the desired summarizer, with the options set\n",
    "ConversationSummarizer = resolve_summarizer(\"Conversation\", conversation_options)\n",
    "\n",
    "# Summarize the document\n",
    "conversation_summary = ConversationSummarizer.summarize(docs)\n",
    "\n",
    "print(\"Conversation Summary:\", conversation_summary)"
   ],
   "id": "fd818d53a9f302c0"
  }
 ],
 "metadata": {
  "kernelspec": {
   "display_name": "Python 3",
   "language": "python",
   "name": "python3"
  },
  "language_info": {
   "codemirror_mode": {
    "name": "ipython",
    "version": 2
   },
   "file_extension": ".py",
   "mimetype": "text/x-python",
   "name": "python",
   "nbconvert_exporter": "python",
   "pygments_lexer": "ipython2",
   "version": "2.7.6"
  }
 },
 "nbformat": 4,
 "nbformat_minor": 5
}
