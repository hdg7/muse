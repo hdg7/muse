{
 "cells": [
  {
   "metadata": {},
   "cell_type": "markdown",
   "source": [
    "# Data Fetcher\n",
    "\n",
    "MuSE provides a cli utility `muse_fetch` to fetch some sample datasets, and put them in the `MUSE_DATA` directory, which can be accessed directly by the `muse` library. This notebook demonstrates how to use the `muse_fetch` utility to fetch the sample datasets.\n",
    "\n",
    "Currently, the only dataset available is the `seq2seq` dataset, which is a multilingual dataset.\n",
    "\n",
    "The `muse_fetch` utility can be used as follows:"
   ],
   "id": "15907a59514b951b"
  },
  {
   "metadata": {},
   "cell_type": "code",
   "outputs": [],
   "execution_count": null,
   "source": "!muse_fetch --data seq2seq",
   "id": "741520fc8fc36845"
  },
  {
   "metadata": {},
   "cell_type": "markdown",
   "source": [
    "This will make the `seq2seq` dataset available in the `MUSE_DATA` directory. \n",
    "\n",
    "The cli utility also provides some additional options, which can be seen by running the following command:"
   ],
   "id": "758ec68125770c19"
  },
  {
   "metadata": {},
   "cell_type": "code",
   "outputs": [],
   "execution_count": null,
   "source": "!muse_fetch --help",
   "id": "549475fc152285e1"
  },
  {
   "metadata": {},
   "cell_type": "markdown",
   "source": [
    "the `--output` option can be used to specify the output directory where the dataset should be downloaded. By default, the dataset is downloaded to the `MUSE_DATA` directory.\n",
    "the `--keep-intermediate` option can be used to keep the intermediate files that are downloaded while fetching the dataset. By default, these files are deleted after the dataset is downloaded, these files could be tar files, or scripts, as is the case in the `seq2seq` dataset."
   ],
   "id": "7e634cbfca63a0e6"
  }
 ],
 "metadata": {
  "kernelspec": {
   "display_name": "Python 3",
   "language": "python",
   "name": "python3"
  },
  "language_info": {
   "codemirror_mode": {
    "name": "ipython",
    "version": 2
   },
   "file_extension": ".py",
   "mimetype": "text/x-python",
   "name": "python",
   "nbconvert_exporter": "python",
   "pygments_lexer": "ipython2",
   "version": "2.7.6"
  }
 },
 "nbformat": 4,
 "nbformat_minor": 5
}
