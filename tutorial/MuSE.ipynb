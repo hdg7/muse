{
 "cells": [
  {
   "metadata": {},
   "cell_type": "markdown",
   "source": "# MuSE: Multi-lingual Summarizer Evaluation Framework",
   "id": "d8fb7fd6c449b268"
  },
  {
   "metadata": {},
   "cell_type": "markdown",
   "source": [
    "## Basic Overview\n",
    "\n",
    "MuSE allows for the evaluation of various summarization systems, with various languages, and under several domains.\n",
    "Currently, MuSE has built-in support for the following summarization systems:\n",
    "  - Extractive:\n",
    "    - Spacy\n",
    "    - Sumy\n",
    "  - Abstractive:\n",
    "    - mT5\n",
    "    - FalconsAI\n",
    "    - CrossSum\n",
    "   \n",
    "MuSE also currently supports the following domains:\n",
    "  - Single Document\n",
    "  - Multi-Document\n",
    "  - Conversation\n"
   ],
   "id": "517cb710f39fdb94"
  },
  {
   "metadata": {},
   "cell_type": "markdown",
   "source": [
    "## Example\n",
    "\n",
    "Below is an example of how you can utilise MuSE as a library:"
   ],
   "id": "7fb92f1643d49cda"
  },
  {
   "metadata": {},
   "cell_type": "code",
   "source": [
    "import os\n",
    "import sys\n",
    "from pathlib import Path\n",
    "\n",
    "# This is here to ensure you can access the muse library, incase it is not installed on your system.\n",
    "try:\n",
    "    from muse import Muse\n",
    "except ImportError:\n",
    "    home = os.path.abspath(os.path.join(Path.cwd(), \"..\", \"src\"))\n",
    "    sys.path.append(home)\n",
    "\n",
    "from muse import Muse, DataType\n",
    "\n",
    "# Create a new Muse object\n",
    "muse = Muse()\n",
    "\n",
    "# Set the specific type of data, scenario and language\n",
    "muse.set_data(DataType.SingleDocument, os.path.abspath(os.path.join(Path.cwd(), \"datasets\")), \"en\")\n",
    "\n",
    "# Set the specific type of model or system for the summarization\n",
    "muse.add_summarizer(\"sumy\")\n",
    "\n",
    "# Set the specific type of evaluation metrics\n",
    "muse.add_evaluation(\"rouge\", \"bleu\")\n",
    "\n",
    "# Run it\n",
    "muse.run()\n"
   ],
   "id": "ef5bc8c2debbca07",
   "outputs": [],
   "execution_count": null
  },
  {
   "metadata": {},
   "cell_type": "markdown",
   "source": "This will initialise a Muse session, specify the domain, the path to the data, the language, set the summarization system to sumy, and evaluate using rogue and bleu.",
   "id": "b7498cfb5d65cc35"
  },
  {
   "metadata": {},
   "cell_type": "markdown",
   "source": "Below is an example of how you can utilise MuSE from the command line. This is equivalent to the example above:",
   "id": "8ae4cc36b5631b0c"
  },
  {
   "metadata": {},
   "cell_type": "code",
   "source": "!muse -s sumy -t document -d ./examples/ -m rougemetric -l en",
   "id": "6a3a7fc58cd2567d",
   "execution_count": null,
   "outputs": []
  },
  {
   "metadata": {},
   "cell_type": "markdown",
   "source": [
    "This will output the results directly to the console.\n",
    "If you need help, you can run the following command:"
   ],
   "id": "5cf903b8f0d2d335"
  },
  {
   "metadata": {},
   "cell_type": "code",
   "outputs": [],
   "execution_count": null,
   "source": "!muse --help",
   "id": "3f3e9799626ffe74"
  },
  {
   "metadata": {},
   "cell_type": "markdown",
   "source": "This will give you a list of all the available options, including the format of configuration files, which will show you all available data importers, summarizers, and evaluation metrics.",
   "id": "aa273845e81c432"
  },
  {
   "metadata": {},
   "cell_type": "markdown",
   "source": [
    "## Installation\n",
    "\n",
    "To install MuSE on your system, you will need a few dependencies:\n",
    "- Python 3.10 or higher\n",
    "- Ollama (Unless you do not wish to use LLM evaluation)\n",
    "\n",
    "You will also need hatch to build the package __(Later, a pre-built package will be available)__.\n",
    "\n",
    "To install MuSE, you can run the following command:\n",
    "```bash\n",
    "hatch build -t wheel\n",
    "pip install -r requirements.txt\n",
    "pip install dist/muse-0.0.1-py3-none-any.whl\n",
    "```\n",
    "\n",
    "This will install MuSE on your system. And make the `muse`, and `muse_fetch` commands available to you."
   ],
   "id": "f5450cbe3572d52f"
  },
  {
   "metadata": {},
   "cell_type": "markdown",
   "source": [
    "## Further Tutorials\n",
    "\n",
    "We provide further tutorials on how to use MuSE in the following notebooks:\n",
    "- [Importing Data](Datasets.ipynb)\n",
    "- [Summarization Systems](Summarizers.ipynb)\n",
    "- [Evaluation Metrics](Evaluation.ipynb)\n",
    "- [Plugins](Plugins.ipynb)\n",
    "- [Data Fetcher](DataFetcher.ipynb)\n",
    "\n",
    "The datasets used in these tutorials can be found in the `tutorial_datasets` directory."
   ],
   "id": "1a070cf1e7bdecc7"
  },
  {
   "metadata": {},
   "cell_type": "markdown",
   "source": [
    "## Notes\n",
    "\n",
    "Many components have some additional arguments passed as part of an options dictionary, this allows for more fine-grained control over these areas. The specific arguments for each may differ, and as such, to see them, you can utilise the `--help` command, in the cli, or the `valid_options` attribute on these functions. \n",
    "More generally, you can view all the valid options for all components currently loaded in the  `data_importers`, `summarizers`, and `evaluation_metrics` with the following:"
   ],
   "id": "6ab527efd552356c"
  },
  {
   "metadata": {},
   "cell_type": "code",
   "source": [
    "from muse.evaluation.resolver import get_evaluators_options\n",
    "from muse.summarizer.resolver import get_summarizers_options\n",
    "from muse.data_importer.resolver import get_importers_options\n",
    "\n",
    "print(get_evaluators_options())\n",
    "print(get_summarizers_options())\n",
    "print(get_importers_options())"
   ],
   "id": "ba261b9b73ca30c5",
   "outputs": [],
   "execution_count": null
  }
 ],
 "metadata": {
  "kernelspec": {
   "display_name": "Python 3",
   "language": "python",
   "name": "python3"
  },
  "language_info": {
   "codemirror_mode": {
    "name": "ipython",
    "version": 2
   },
   "file_extension": ".py",
   "mimetype": "text/x-python",
   "name": "python",
   "nbconvert_exporter": "python",
   "pygments_lexer": "ipython2",
   "version": "2.7.6"
  }
 },
 "nbformat": 4,
 "nbformat_minor": 5
}
