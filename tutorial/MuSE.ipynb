{
 "cells": [
  {
   "metadata": {},
   "cell_type": "markdown",
   "source": "# MuSE: Multi-lingual Summarizer Evaluation Framework",
   "id": "d8fb7fd6c449b268"
  },
  {
   "metadata": {},
   "cell_type": "markdown",
   "source": [
    "## Basic Overview\n",
    "\n",
    "MuSE allows for the evaluation of various summarization systems, with various languages, and under several domains.\n",
    "Currently, MuSE has built-in support for the following summarization systems:\n",
    "  - Extractive:\n",
    "    - GenSim\n",
    "    - Sumy\n",
    "   \n",
    "\n",
    "MuSE also currently supports the following domains:\n",
    "  - Single Document\n",
    "  - Multi-Document\n",
    "  - Conversation\n",
    "\n",
    "Currently, English is the only supported language."
   ],
   "id": "517cb710f39fdb94"
  },
  {
   "metadata": {},
   "cell_type": "markdown",
   "source": [
    "## Example\n",
    "\n",
    "Below is an example of how you can utilise MuSE as a library:"
   ],
   "id": "7fb92f1643d49cda"
  },
  {
   "metadata": {},
   "cell_type": "code",
   "outputs": [],
   "execution_count": null,
   "source": [
    "import os\n",
    "import sys\n",
    "from pathlib import Path\n",
    "\n",
    "# This is here to ensure you can access the muse library, incase it is not installed on your system.\n",
    "try:\n",
    "    from muse import Muse\n",
    "except ImportError:\n",
    "    home = os.path.abspath(os.path.join(Path.cwd(), \"..\", \"src\"))\n",
    "    sys.path.append(home)\n",
    "\n",
    "from muse import Muse, DataType\n",
    "\n",
    "# Create a new Muse object\n",
    "muse = Muse()\n",
    "\n",
    "# Set the specific type of data, scenario and language\n",
    "muse.set_data(DataType.SingleDocument, os.path.abspath(os.path.join(Path.cwd(), \"examples\")), \"en\")\n",
    "\n",
    "# Set the specific type of model or system for the summarization\n",
    "muse.add_summarizer(\"sumy\")\n",
    "\n",
    "# Set the specific type of evaluation metrics\n",
    "muse.add_evaluation(\"rouge\", \"bleu\")\n",
    "\n",
    "# Run it\n",
    "muse.run()\n"
   ],
   "id": "ef5bc8c2debbca07"
  },
  {
   "metadata": {},
   "cell_type": "markdown",
   "source": "This will initialise a Muse session, specify the domain, the path to the data, the language, set the summarization system to sumy, and evaluate using rogue and bleu.",
   "id": "b7498cfb5d65cc35"
  },
  {
   "metadata": {},
   "cell_type": "markdown",
   "source": "Below is an example of how you can utilise MuSE from the command line. This is equivalent to the example above:",
   "id": "8ae4cc36b5631b0c"
  },
  {
   "metadata": {},
   "cell_type": "code",
   "source": "!muse -s sumy -t document -d ./examples/ -e metrics -m \"rouge\" -l \"en\"",
   "id": "6a3a7fc58cd2567d",
   "outputs": [],
   "execution_count": null
  },
  {
   "metadata": {},
   "cell_type": "markdown",
   "source": "This will output the results directly to the console.",
   "id": "5cf903b8f0d2d335"
  }
 ],
 "metadata": {
  "kernelspec": {
   "display_name": "Python 3",
   "language": "python",
   "name": "python3"
  },
  "language_info": {
   "codemirror_mode": {
    "name": "ipython",
    "version": 2
   },
   "file_extension": ".py",
   "mimetype": "text/x-python",
   "name": "python",
   "nbconvert_exporter": "python",
   "pygments_lexer": "ipython2",
   "version": "2.7.6"
  }
 },
 "nbformat": 4,
 "nbformat_minor": 5
}
