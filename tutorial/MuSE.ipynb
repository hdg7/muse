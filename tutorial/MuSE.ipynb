{
 "cells": [
  {
   "metadata": {},
   "cell_type": "markdown",
   "source": "# MuSE: Multi-lingual Summarizer Evaluation Framework",
   "id": "d8fb7fd6c449b268"
  },
  {
   "metadata": {},
   "cell_type": "markdown",
   "source": [
    "## Basic Overview\n",
    "\n",
    "MuSE allows for the evaluation of various summarization systems, with various languages, and under several domains.\n",
    "Currently, MuSE has built-in support for the following summarization systems:\n",
    "  - Extractive:\n",
    "    - GenSim\n",
    "    - Sumy\n",
    "   \n",
    "\n",
    "MuSE also currently supports the following domains:\n",
    "  - Single Document\n",
    "  - Multi-Document\n",
    "  - Conversation\n",
    "\n",
    "Currently, English is the only supported language."
   ],
   "id": "517cb710f39fdb94"
  },
  {
   "metadata": {},
   "cell_type": "markdown",
   "source": [
    "## Example\n",
    "\n",
    "Below is an example of how you can utilise MuSE as a library:"
   ],
   "id": "7fb92f1643d49cda"
  },
  {
   "metadata": {
    "ExecuteTime": {
     "end_time": "2024-09-16T16:30:38.993691Z",
     "start_time": "2024-09-16T16:30:37.470994Z"
    }
   },
   "cell_type": "code",
   "source": [
    "import os\n",
    "import sys\n",
    "from pathlib import Path\n",
    "\n",
    "# This is here to ensure you can access the muse library, incase it is not installed on your system.\n",
    "try:\n",
    "    from muse import Muse\n",
    "except ImportError:\n",
    "    home = os.path.abspath(os.path.join(Path.cwd(), \"..\", \"src\"))\n",
    "    sys.path.append(home)\n",
    "\n",
    "from muse import Muse\n",
    "\n",
    "# Create a new Muse object\n",
    "muse = Muse()\n",
    "\n",
    "# Set the specific type of data, scenario and language\n",
    "muse.set_data(\"single-document\", os.path.abspath(os.path.join(Path.cwd(), \"examples\")), \"en\")\n",
    "\n",
    "# Set the specific type of model or system for the summarization\n",
    "muse.add_summarizer(\"sumy\")\n",
    "\n",
    "# Set the specific type of evaluation metrics\n",
    "muse.add_evaluation(\"rouge\", \"bleu\")\n",
    "\n",
    "# Run it\n",
    "muse.run()\n"
   ],
   "id": "9db4b8c692e78ef8",
   "outputs": [
    {
     "name": "stderr",
     "output_type": "stream",
     "text": [
      "/home/aidan/miniconda3/envs/MuSE/lib/python3.10/site-packages/nltk/translate/bleu_score.py:577: UserWarning: \n",
      "The hypothesis contains 0 counts of 2-gram overlaps.\n",
      "Therefore the BLEU score evaluates to 0, independently of\n",
      "how many N-gram overlaps of lower order it contains.\n",
      "Consider using lower n-gram order or use SmoothingFunction()\n",
      "  warnings.warn(_msg)\n",
      "/home/aidan/miniconda3/envs/MuSE/lib/python3.10/site-packages/nltk/translate/bleu_score.py:577: UserWarning: \n",
      "The hypothesis contains 0 counts of 3-gram overlaps.\n",
      "Therefore the BLEU score evaluates to 0, independently of\n",
      "how many N-gram overlaps of lower order it contains.\n",
      "Consider using lower n-gram order or use SmoothingFunction()\n",
      "  warnings.warn(_msg)\n",
      "/home/aidan/miniconda3/envs/MuSE/lib/python3.10/site-packages/nltk/translate/bleu_score.py:577: UserWarning: \n",
      "The hypothesis contains 0 counts of 4-gram overlaps.\n",
      "Therefore the BLEU score evaluates to 0, independently of\n",
      "how many N-gram overlaps of lower order it contains.\n",
      "Consider using lower n-gram order or use SmoothingFunction()\n",
      "  warnings.warn(_msg)\n"
     ]
    },
    {
     "data": {
      "text/plain": [
       "{'Sumy': {'RougeMetric': {'rouge_score': [{'rouge-1': {'r': 0.15384615384615385,\n",
       "      'p': 0.3333333333333333,\n",
       "      'f': 0.21052631146814413},\n",
       "     'rouge-2': {'r': 0.041666666666666664,\n",
       "      'p': 0.11764705882352941,\n",
       "      'f': 0.06153845767573989},\n",
       "     'rouge-l': {'r': 0.15384615384615385,\n",
       "      'p': 0.3333333333333333,\n",
       "      'f': 0.21052631146814413}}]},\n",
       "  'BleuMetric': {'bleu_score': 1.2183324802375697e-231}}}"
      ]
     },
     "execution_count": 1,
     "metadata": {},
     "output_type": "execute_result"
    }
   ],
   "execution_count": 1
  },
  {
   "metadata": {},
   "cell_type": "markdown",
   "source": "This will initialise a Muse session, specify the domain, the path to the data, the language, set the summarization system to sumy, and evaluate using rogue and bleu.",
   "id": "b7498cfb5d65cc35"
  }
 ],
 "metadata": {
  "kernelspec": {
   "display_name": "Python 3",
   "language": "python",
   "name": "python3"
  },
  "language_info": {
   "codemirror_mode": {
    "name": "ipython",
    "version": 2
   },
   "file_extension": ".py",
   "mimetype": "text/x-python",
   "name": "python",
   "nbconvert_exporter": "python",
   "pygments_lexer": "ipython2",
   "version": "2.7.6"
  }
 },
 "nbformat": 4,
 "nbformat_minor": 5
}
