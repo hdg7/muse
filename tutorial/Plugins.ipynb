{
 "cells": [
  {
   "metadata": {},
   "cell_type": "markdown",
   "source": [
    "# MuSE Plugin System\n",
    "\n",
    "MuSE allows you to add extra components to the `data_importer` system, the `evaluation` system, and the `summarizer` system without having to extend MuSE itself.\n",
    "To do this, you must add some python files in the `MUSE_PLUGINS` directory under `./importer`, `./evaluation`, and `./summarizer` respectively.\n",
    "\n",
    "These systems will be loaded on running MuSE and will be available for use, taking priority over the default MuSE components, where conflicts arise.\n",
    "To implement these, you can create one or more files within the relevant directory, and implement the relevant abstract classes for each. \n",
    "\n",
    "Typically, you can customise the existing systems with their options to fit your needs, but in the event that these also do not fit your needs, you can create a new system and use it in your code.\n",
    "\n",
    "When using MuSE as a library, these plugins will be loaded automatically upon import of MuSE, and will be available for use in the same way as the default components."
   ],
   "id": "2dbf016ec3ca2f80"
  },
  {
   "metadata": {},
   "cell_type": "markdown",
   "source": [
    "## Importer Plugins\n",
    "\n",
    "To create an importer plugin, you must create a python file in the `MUSE_PLUGINS/importer` directory.\n",
    "\n",
    "Below is an example with explanations of the different components of the plugin system."
   ],
   "id": "f879302edacd9e17"
  },
  {
   "metadata": {},
   "cell_type": "code",
   "outputs": [],
   "execution_count": null,
   "source": [
    "from muse.data_importer import Importer\n",
    "from muse.utils.decorators import with_valid_options\n",
    "\n",
    "class ExampleImporter(Importer):\n",
    "    # This is used to add a function describing the options available for the importer, which is displayed in help messages, or available under the valid_options() function for the importer.\n",
    "    @with_valid_options(\n",
    "        option1={\"type\": str, \"default\": \"foo\", \"help\": \"This is option 1\"},\n",
    "        option2={\"type\": int, \"default\": 42, \"help\": \"This is option 2\"},\n",
    "    )\n",
    "    def __init__(self, options: dict[str, any] = None):\n",
    "        # Here you initialise anything you need for the importer class, it is expected to be reusable among different datasets with the same options\n",
    "        if options is None:\n",
    "            options = {}\n",
    "            \n",
    "        self.option1 = options.get(\"option1\", \"foo\")\n",
    "        self.option2 = options.get(\"option2\", 42)\n",
    "\n",
    "    def import_data(self, data_path, document_type):\n",
    "        # Here you are given the path to the data, this could be any path format, i.e. https, s3, local, etc. \n",
    "        # Muse provides some helper functions for some basic tasks to help fetch remote data and extract it before returning a new path to you to use.\n",
    "        # For this see src/muse/data_importer/fetcher.py\n",
    "        pass\n",
    "\n",
    "    def check_data(self, data_path, document_type):\n",
    "        # This is a function to check if this is the correct importer to use for the data, you can do some preliminary checks, such as checking if the document_type is \n",
    "        # what you expect, or if the data_path is a valid path for your importer.\n",
    "        # If you return False, the importer will not be used, and the next importer will be tried.\n",
    "        return True"
   ],
   "id": "4d60e648d3c9c4a2"
  },
  {
   "metadata": {},
   "cell_type": "markdown",
   "source": [
    "## Evaluation Plugins\n",
    "\n",
    "To create an evaluation plugin, you must create a python file in the `MUSE_PLUGINS/evaluation` directory.  \n",
    "\n",
    "Below is an example with explanations of the different components of the plugin system."
   ],
   "id": "9233bb012abf1c3f"
  },
  {
   "metadata": {},
   "cell_type": "code",
   "outputs": [],
   "execution_count": null,
   "source": [
    "from muse.evaluation import Evaluation\n",
    "from muse.utils.decorators import with_valid_options\n",
    "\n",
    "\n",
    "class ExampleEvaluation(Evaluation):\n",
    "    # This is used to add a function describing the options available for the evaluation, which is displayed in help messages, or available under the valid_options() function for the evaluation.\n",
    "    @with_valid_options(\n",
    "        option1={\"type\": str, \"default\": \"foo\", \"help\": \"This is option 1\"},\n",
    "        option2={\"type\": int, \"default\": 42, \"help\": \"This is option 2\"},\n",
    "    )\n",
    "    def __init__(self, options: dict[str, any] = None):\n",
    "        # Here you initialise anything you need for the evaluation class, it is expected to be reusable among different datasets with the same options\n",
    "        if options is None:\n",
    "            options = {}\n",
    "            \n",
    "        self.option1 = options.get(\"option1\", \"foo\")\n",
    "        self.option2 = options.get(\"option2\", 42)\n",
    "\n",
    "    def evaluate(\n",
    "        self,\n",
    "        summary: list[str],\n",
    "        reference_text: list[str] | None,\n",
    "        reference_summary: list[str] | None = None,\n",
    "    ) -> dict[str, any]:\n",
    "        # Here you are given the summary, and the reference text and summary if available, and you should return a dictionary of metrics. The reference text is always available,\n",
    "        # but the reference summary is only available if the dataset has a reference summary.\n",
    "        pass\n"
   ],
   "id": "9723b354947c1d81"
  },
  {
   "metadata": {},
   "cell_type": "markdown",
   "source": [
    "## Summarizer Plugins\n",
    "\n",
    "To create a summarizer plugin, you must create a python file in the `MUSE_PLUGINS/summarizer` directory.\n",
    "\n",
    "Below is an example with explanations of the different components of the plugin system."
   ],
   "id": "4dcc9e4ab9675973"
  },
  {
   "metadata": {},
   "cell_type": "code",
   "outputs": [],
   "execution_count": null,
   "source": [
    "from muse.summarizer import Summarizer\n",
    "from muse.utils.decorators import with_valid_options\n",
    "\n",
    "\n",
    "class ExampleSummarizer(Summarizer):\n",
    "    # This is used to add a function describing the options available for the summarizer, which is displayed in help messages, or available under the valid_options() function for the summarizer.\n",
    "    @with_valid_options(\n",
    "        option1={\"type\": str, \"default\": \"foo\", \"help\": \"This is option 1\"},\n",
    "        option2={\"type\": int, \"default\": 42, \"help\": \"This is option 2\"},\n",
    "    )\n",
    "    def __init__(self, options: dict[str, any] = None):\n",
    "        # Here you initialise anything you need for the summarizer class, it is expected to be reusable among different datasets with the same options\n",
    "        if options is None:\n",
    "            options = {}\n",
    "            \n",
    "        self.option1 = options.get(\"option1\", \"foo\")\n",
    "        self.option2 = options.get(\"option2\", 42)\n",
    "\n",
    "    def summarize(self, text: list[str]) -> list[str]:\n",
    "        # Here you are given the text to summarize, and you should return a list of strings, which are the sentences in the summary.\n",
    "        pass"
   ],
   "id": "e404eb444364a74"
  }
 ],
 "metadata": {
  "kernelspec": {
   "display_name": "Python 3",
   "language": "python",
   "name": "python3"
  },
  "language_info": {
   "codemirror_mode": {
    "name": "ipython",
    "version": 2
   },
   "file_extension": ".py",
   "mimetype": "text/x-python",
   "name": "python",
   "nbconvert_exporter": "python",
   "pygments_lexer": "ipython2",
   "version": "2.7.6"
  }
 },
 "nbformat": 4,
 "nbformat_minor": 5
}
